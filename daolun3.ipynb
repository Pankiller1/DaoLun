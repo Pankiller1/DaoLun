{
 "cells": [
  {
   "cell_type": "code",
   "execution_count": 3,
   "id": "348b1c1e",
   "metadata": {},
   "outputs": [
    {
     "name": "stdout",
     "output_type": "stream",
     "text": [
      "1 3 5 7 9 11 13 15 17 19 21 23 25 27 29 31 33 35 37 39 41 43 45 47 49 51 53 55 57 59 61 63 65 67 69 71 73 75 77 79 81 83 85 87 89 91 93 95 97 99 \n",
      "58435841445947272053455474390625\n"
     ]
    }
   ],
   "source": [
    "for i in range(1,101,2):\n",
    "    print(i,end=' ')\n",
    "print()\n",
    "su\n",
    "for i in range(1,51,2):\n",
    "    sum=sum*i\n",
    "print(sum)"
   ]
  },
  {
   "cell_type": "code",
   "execution_count": 6,
   "id": "3e6068d9",
   "metadata": {},
   "outputs": [
    {
     "name": "stdout",
     "output_type": "stream",
     "text": [
      "5\n",
      "4\n",
      "3\n",
      "2\n",
      "1\n"
     ]
    }
   ],
   "source": [
    "L=[1,2,3,4,5]\n",
    "for i in range(len(L)-1,-1,-1):\n",
    "    print(L[i])"
   ]
  },
  {
   "cell_type": "code",
   "execution_count": 7,
   "id": "c7fdc96b",
   "metadata": {},
   "outputs": [
    {
     "name": "stdout",
     "output_type": "stream",
     "text": [
      "5\n",
      "4\n",
      "3\n",
      "2\n",
      "1\n"
     ]
    }
   ],
   "source": [
    "L=[1,2,3,4,5]\n",
    "i=len(L)-1\n",
    "while i>=0:\n",
    "    print(L[i])\n",
    "    i -= 1"
   ]
  },
  {
   "cell_type": "code",
   "execution_count": 12,
   "id": "0ac6951b",
   "metadata": {},
   "outputs": [
    {
     "name": "stdout",
     "output_type": "stream",
     "text": [
      "[5, 4, 3, 2, 1]\n"
     ]
    }
   ],
   "source": [
    "L=[1,2,3,4,5]\n",
    "print(L[::-1])"
   ]
  },
  {
   "cell_type": "code",
   "execution_count": 38,
   "id": "9e98f8d9",
   "metadata": {},
   "outputs": [
    {
     "name": "stdout",
     "output_type": "stream",
     "text": [
      "daaessss\n",
      "YES 4\n"
     ]
    }
   ],
   "source": [
    "s=input()\n",
    "sum1=0\n",
    "temp=1\n",
    "for i in range(len(s)-1):\n",
    "    if s[i]==s[i+1]:\n",
    "        temp +=1\n",
    "        if sum1<=temp:\n",
    "            sum1=temp\n",
    "    else:\n",
    "        temp=1\n",
    "if sum1>=2:\n",
    "    print(\"YES\",sum1)\n",
    "else:\n",
    "    print(\"NO\")"
   ]
  },
  {
   "cell_type": "code",
   "execution_count": 11,
   "id": "e393300e",
   "metadata": {},
   "outputs": [
    {
     "name": "stdout",
     "output_type": "stream",
     "text": [
      "dase science and engineering\n",
      "dasescienceandengineering\n"
     ]
    }
   ],
   "source": [
    "Str=input()\n",
    "Str1=Str.replace(\" \",\"\")\n",
    "print(Str1)"
   ]
  },
  {
   "cell_type": "code",
   "execution_count": 34,
   "id": "7b87dc99",
   "metadata": {},
   "outputs": [
    {
     "name": "stdout",
     "output_type": "stream",
     "text": [
      "0.58446\n"
     ]
    }
   ],
   "source": [
    "import random\n",
    "import math\n",
    "sum=0\n",
    "N=1000000\n",
    "for i in range(N):\n",
    "    x=random.uniform(0,1)\n",
    "    y=random.uniform(0,2)\n",
    "    if y<=math.pow(x,3)+math.pow(x,2):\n",
    "        sum +=1\n",
    "print(sum/N*2)"
   ]
  },
  {
   "cell_type": "code",
   "execution_count": 10,
   "id": "dc6c663b",
   "metadata": {},
   "outputs": [
    {
     "name": "stdout",
     "output_type": "stream",
     "text": [
      "2\n",
      "1.4141782635388052\n"
     ]
    }
   ],
   "source": [
    "#循环迭代，逐步逼近\n",
    "import math\n",
    "import random\n",
    "a=int(input())\n",
    "x=random.uniform(0,a)\n",
    "while pow(x,2)>a or pow(x+1,2)<a:\n",
    "    x=random.uniform(0,a)\n",
    "while abs(pow(x,2)-a)>0.0001:\n",
    "    x += 0.00001\n",
    "print(x)"
   ]
  },
  {
   "cell_type": "code",
   "execution_count": 15,
   "id": "7bdcba69",
   "metadata": {},
   "outputs": [
    {
     "name": "stdout",
     "output_type": "stream",
     "text": [
      "2\n",
      "1.4142135381698608\n"
     ]
    }
   ],
   "source": [
    "#二分查找，折半返回\n",
    "import math\n",
    "a=int(input())\n",
    "min=0\n",
    "max=a\n",
    "x=(min+max)/2\n",
    "while abs(pow(x,2)-a)>0.0000001:\n",
    "    if pow(x,2)>a:\n",
    "        max=x\n",
    "    else:\n",
    "        min=x\n",
    "    x=(min+max)/2\n",
    "print(x)"
   ]
  },
  {
   "cell_type": "code",
   "execution_count": 39,
   "id": "20eec26e",
   "metadata": {},
   "outputs": [
    {
     "name": "stdout",
     "output_type": "stream",
     "text": [
      "2\n",
      "1.4142135623746899\n"
     ]
    }
   ],
   "source": [
    "#曲线切线，线性逼近\n",
    "a=int(input())\n",
    "x=a/2\n",
    "while abs(pow(x,2)-a)>0.000001:\n",
    "    x=(x+a/x)/2\n",
    "print(x)"
   ]
  },
  {
   "cell_type": "code",
   "execution_count": 2,
   "id": "62935867",
   "metadata": {},
   "outputs": [
    {
     "name": "stdout",
     "output_type": "stream",
     "text": [
      "3.141664\n"
     ]
    }
   ],
   "source": [
    "#蒙特卡洛法\n",
    "import math\n",
    "import random\n",
    "n=1000000\n",
    "c=0\n",
    "for i in range(n):\n",
    "    x=random.uniform(0,1)\n",
    "    y=random.uniform(0,1)\n",
    "    if pow(x,2)+pow(y,2)<1:\n",
    "        c +=1\n",
    "print(c/n*4)\n"
   ]
  },
  {
   "cell_type": "code",
   "execution_count": null,
   "id": "59e4200f",
   "metadata": {},
   "outputs": [],
   "source": []
  }
 ],
 "metadata": {
  "kernelspec": {
   "display_name": "Python 3 (ipykernel)",
   "language": "python",
   "name": "python3"
  },
  "language_info": {
   "codemirror_mode": {
    "name": "ipython",
    "version": 3
   },
   "file_extension": ".py",
   "mimetype": "text/x-python",
   "name": "python",
   "nbconvert_exporter": "python",
   "pygments_lexer": "ipython3",
   "version": "3.9.7"
  }
 },
 "nbformat": 4,
 "nbformat_minor": 5
}
